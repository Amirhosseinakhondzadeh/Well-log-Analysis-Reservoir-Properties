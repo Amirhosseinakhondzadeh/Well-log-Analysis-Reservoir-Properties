{
 "cells": [
  {
   "cell_type": "markdown",
   "id": "bfdf1805",
   "metadata": {},
   "source": [
    "# 1st section part of project"
   ]
  },
  {
   "cell_type": "markdown",
   "id": "1dd04490",
   "metadata": {},
   "source": [
    "<span style='color:brown'> <span style=\"font-size:19px;\"> **STEP 1: load all the required DLIS files**"
   ]
  },
  {
   "cell_type": "code",
   "execution_count": 4,
   "id": "d8830d19",
   "metadata": {},
   "outputs": [],
   "source": [
    "%%capture\n",
    "\n",
    "%pip install dlisio                                                   \n",
    "%pip install qbstyles                                                 \n",
    "%pip install folium \n",
    "%pip install geopandas\n",
    "\n",
    "from dlisio import dlis\n",
    "import numpy as np\n",
    "import pandas as pd \n",
    "import matplotlib.pyplot as plt \n",
    "import matplotlib.patches as mpatches                                 \n",
    "\n",
    "import folium                                                         \n",
    "from folium import plugins \n",
    "import json                                                           \n",
    "\n",
    "from qbstyles import mpl_style\n",
    "mpl_style(dark=False)                                                 \n",
    "\n",
    "from matplotlib_inline.backend_inline import set_matplotlib_formats   \n",
    "set_matplotlib_formats('svg')                                         "
   ]
  },
  {
   "cell_type": "markdown",
   "id": "08a0e79b",
   "metadata": {},
   "source": [
    "<span style='color:brown'> <span style=\"font-size:19px;\"> **STEP 2: load all the required DLIS files**"
   ]
  },
  {
   "cell_type": "code",
   "execution_count": 5,
   "id": "c59db102",
   "metadata": {},
   "outputs": [],
   "source": [
    "#dlis0, *tail0 = dlis.load('/Users/amirhosseinakhondzadeh/@ DATA/Petrobras/1-brsa-871-mg_8_tdd_cnl_ait.dlis')\n",
    "\n",
    "dlis0, *tail0 = dlis.load('/Users/amirhosseinakhondzadeh/@ DATA/NEW/BRSA-871/1-brsa-871-mg_8_tdd_cnl_ait.dlis')\n",
    "dlis1, *tail1 = dlis.load('/Users/amirhosseinakhondzadeh/@ DATA/NEW/BRSA-948/1-brsa-948-mg_12a_ait_pex.dlis')\n",
    "dlis2, *tail2 = dlis.load('/Users/amirhosseinakhondzadeh/@ DATA/NEW/BRSA-1005/1-brsa-1005-mg_12_ait_tdd.dlis')"
   ]
  },
  {
   "cell_type": "code",
   "execution_count": 6,
   "id": "60b8cdce",
   "metadata": {},
   "outputs": [],
   "source": [
    "# Print the frames present in each DLIS file\n",
    "dlis0.frames;\n",
    "dlis1.frames;\n",
    "dlis2.frames;"
   ]
  },
  {
   "cell_type": "code",
   "execution_count": 7,
   "id": "1bf3e68f",
   "metadata": {},
   "outputs": [
    {
     "name": "stdout",
     "output_type": "stream",
     "text": [
      "Frame Name: \t\t 60B\n",
      "Number of Channels: \t 72\n",
      "Depth Interval: \t 1276080 - 1348380 0.1 in\n",
      "Depth Spacing: \t\t -60 0.1 in\n",
      "Channel Names: \t\t [Channel(TDEP), Channel(BS), Channel(CS), Channel(TENS), Channel(ETIM), Channel(BHPR), Channel(RT), Channel(SP), Channel(SPAR), Channel(DTCO3), Channel(PXND_HILT), Channel(RHGX_HILT), Channel(UMA_HILT), Channel(HPATT), Channel(HLRGB), Channel(PHIE_HILT), Channel(RMFA_HILT), Channel(RO_HILT), Channel(VCL_HILT), Channel(RWA_HILT), Channel(SW_HILT), Channel(QCBSL), Channel(BSD1), Channel(SSD1), Channel(LSD1), Channel(QCMCFL), Channel(RXIG), Channel(ECGR), Channel(CFGR), Channel(GR), Channel(RTNR), Channel(NPHI), Channel(NPL), Channel(DRTA), Channel(DNPH), Channel(QCPOR), Channel(TNPH), Channel(TALP), Channel(RCFT), Channel(RCNT), Channel(CFTC), Channel(TNRA), Channel(CNTC), Channel(NPOR), Channel(GDEV), Channel(HWER), Channel(TGST), Channel(RWA), Channel(DCAL), Channel(FCD), Channel(HDAR), Channel(ASCA), Channel(ASFI), Channel(TIME), Channel(CVEL), Channel(GTEM), Channel(NCYT), Channel(HTEM), Channel(EBSZ), Channel(ESSZ), Channel(ELSZ), Channel(HWEC), Channel(DF), Channel(CDF), Channel(AREA), Channel(AFCD), Channel(ABS), Channel(IHV), Channel(ICV), Channel(STIA), Channel(STIT), Channel(ATCA)]\n",
      "===================================================================================================================\n",
      "Frame Name: \t\t 10B\n",
      "Number of Channels: \t 19\n",
      "Depth Interval: \t 1276090 - 1348380 0.1 in\n",
      "Depth Spacing: \t\t -10 0.1 in\n",
      "Channel Names: \t\t [Channel(TDEP), Channel(IDWD), Channel(SCD), Channel(HDRX), Channel(RXOI), Channel(RXV), Channel(RVV), Channel(HCAL), Channel(LHEW), Channel(TIME), Channel(SCDV), Channel(FCBR), Channel(BSW), Channel(LSW), Channel(SSW), Channel(BSWU), Channel(SSWU), Channel(LSWU), Channel(LWTO)]\n",
      "===================================================================================================================\n",
      "Frame Name: \t\t 5B\n",
      "Number of Channels: \t 3\n",
      "Depth Interval: \t 1276085 - 1348380 0.1 in\n",
      "Depth Spacing: \t\t -5 0.1 in\n",
      "Channel Names: \t\t [Channel(TDEP), Channel(TIME), Channel(ADES)]\n",
      "===================================================================================================================\n",
      "Frame Name: \t\t 30B\n",
      "Number of Channels: \t 82\n",
      "Depth Interval: \t 1276110 - 1348380 0.1 in\n",
      "Depth Spacing: \t\t -30 0.1 in\n",
      "Channel Names: \t\t [Channel(TDEP), Channel(ABFR), Channel(AECEF), Channel(AECF), Channel(AEHF), Channel(AERS), Channel(AEMF), Channel(AOCO10), Channel(AOCO20), Channel(AOCO30), Channel(AOCO60), Channel(AOCO90), Channel(ATCO10), Channel(ATCO20), Channel(ATCO30), Channel(ATCO60), Channel(ATCO90), Channel(AFCO10), Channel(AFCO20), Channel(AFCO30), Channel(AFCO60), Channel(AFCO90), Channel(AECO10), Channel(AECO20), Channel(AECO30), Channel(AECO60), Channel(AECO90), Channel(ADICO07), Channel(ADICO11), Channel(ADICO15), Channel(ADICO22), Channel(ADICO27), Channel(ADI07), Channel(ADI11), Channel(ADI15), Channel(ADI22), Channel(ADI27), Channel(AO10), Channel(AO20), Channel(AO30), Channel(AO60), Channel(AO90), Channel(AT10), Channel(AT20), Channel(AT30), Channel(AT60), Channel(AT90), Channel(AF10), Channel(AF20), Channel(AF30), Channel(AF60), Channel(AF90), Channel(AE10), Channel(AE20), Channel(AE30), Channel(AE60), Channel(AE90), Channel(AFOO), Channel(AFD1), Channel(AFD2), Channel(AFRT), Channel(AFRX), Channel(AOOO), Channel(AOD1), Channel(AOD2), Channel(AORT), Channel(AORX), Channel(ATOO), Channel(ATD1), Channel(ATD2), Channel(ATRT), Channel(ATRX), Channel(TIME), Channel(AIBC), Channel(AQABN), Channel(AFPR), Channel(AOPR), Channel(ATPR), Channel(AFVM), Channel(AOVM), Channel(ATVM), Channel(AIFC)]\n",
      "===================================================================================================================\n",
      "Frame Name: \t\t 120B\n",
      "Number of Channels: \t 6\n",
      "Depth Interval: \t 1276140 - 1348380 0.1 in\n",
      "Depth Spacing: \t\t -120 0.1 in\n",
      "Channel Names: \t\t [Channel(TDEP), Channel(AMF), Channel(TIME), Channel(AMC), Channel(ATSE), Channel(ATCE)]\n",
      "===================================================================================================================\n",
      "Frame Name: \t\t 20B\n",
      "Number of Channels: \t 40\n",
      "Depth Interval: \t 1276100 - 1348380 0.1 in\n",
      "Depth Spacing: \t\t -20 0.1 in\n",
      "Channel Names: \t\t [Channel(TDEP), Channel(DSOZ), Channel(DSO8), Channel(GREZ), Channel(HDRA), Channel(HPRA), Channel(PEFBA), Channel(PEFSA), Channel(PEFLA), Channel(PEFZ), Channel(PEF8), Channel(QCRH), Channel(QCPEF), Channel(RHBA), Channel(RHSA), Channel(RHLA), Channel(RHOZ), Channel(RHO8), Channel(UZ), Channel(U8), Channel(DPHZ), Channel(DPH8), Channel(HMIN), Channel(HMNO), Channel(RXOZ), Channel(RSOZ), Channel(RXO8), Channel(RSO8), Channel(EHGR), Channel(HGR), Channel(HDRT), Channel(HTNP), Channel(HTAL), Channel(RHFT), Channel(RHNT), Channel(HCFT), Channel(HCNT), Channel(HNPO), Channel(TIME), Channel(HAZ)]\n",
      "===================================================================================================================\n",
      "Frame Name: \t\t 2B\n",
      "Number of Channels: \t 6\n",
      "Depth Interval: \t 1276082 - 1348380 0.1 in\n",
      "Depth Spacing: \t\t -2 0.1 in\n",
      "Channel Names: \t\t [Channel(TDEP), Channel(TIME), Channel(RXRU), Channel(RVDRU), Channel(RVSRU), Channel(RXGR)]\n",
      "===================================================================================================================\n"
     ]
    }
   ],
   "source": [
    "for frame in dlis0.frames :\n",
    "    \n",
    "    #Search through the channels \n",
    "    for channel in frame.channels:\n",
    "        if channel.name == frame.index:\n",
    "            depth_units = channel.units\n",
    "            \n",
    "    print(f'Frame Name: \\t\\t {frame.name}')    \n",
    "    print(f'Number of Channels: \\t {len(frame.channels)}') \n",
    "    print(f'Depth Interval: \\t {frame.index_min} - {frame.index_max} {depth_units}') \n",
    "    print(f'Depth Spacing: \\t\\t {frame.spacing} {depth_units}') \n",
    "    print(f'Channel Names: \\t\\t {str(frame.channels)}')                              # The individual logging curves \n",
    "    print('='*115)"
   ]
  },
  {
   "cell_type": "code",
   "execution_count": 8,
   "id": "9904c98c",
   "metadata": {},
   "outputs": [
    {
     "name": "stdout",
     "output_type": "stream",
     "text": [
      "Frame Name: \t\t 60B\n",
      "Number of Channels: \t 69\n",
      "Depth Interval: \t 133560 - 738000 0.1 in\n",
      "Depth Spacing: \t\t -60 0.1 in\n",
      "Channel Names: \t\t [Channel(TDEP), Channel(BS), Channel(CS), Channel(TENS), Channel(ETIM), Channel(PXND_HILT), Channel(RHGX_HILT), Channel(UMA_HILT), Channel(HPATT), Channel(HLRGB), Channel(PHIE_HILT), Channel(RMFA_HILT), Channel(RO_HILT), Channel(VCL_HILT), Channel(RWA_HILT), Channel(SW_HILT), Channel(BHPR), Channel(RT), Channel(SP), Channel(SPAR), Channel(QCBSL), Channel(BSD1), Channel(SSD1), Channel(LSD1), Channel(QCMCFL), Channel(RXIG), Channel(ECGR), Channel(CFGR), Channel(GR), Channel(RTNR), Channel(NPHI), Channel(NPL), Channel(DRTA), Channel(DNPH), Channel(QCPOR), Channel(TNPH), Channel(TALP), Channel(RCFT), Channel(RCNT), Channel(CFTC), Channel(TNRA), Channel(CNTC), Channel(NPOR), Channel(GDEV), Channel(HWER), Channel(TGST), Channel(RWA), Channel(DCAL), Channel(FCD), Channel(HDAR), Channel(AHSCA), Channel(AHSFI), Channel(TIME), Channel(CVEL), Channel(GTEM), Channel(NCYT), Channel(HTEM), Channel(EBSZ), Channel(ESSZ), Channel(ELSZ), Channel(HWEC), Channel(DF), Channel(CDF), Channel(AREA), Channel(AFCD), Channel(ABS), Channel(IHV), Channel(ICV), Channel(AHTCA)]\n",
      "===================================================================================================================\n",
      "Frame Name: \t\t 10B\n",
      "Number of Channels: \t 19\n",
      "Depth Interval: \t 133570 - 738000 0.1 in\n",
      "Depth Spacing: \t\t -10 0.1 in\n",
      "Channel Names: \t\t [Channel(TDEP), Channel(IDWD), Channel(SCD), Channel(HDRX), Channel(RXOI), Channel(RXV), Channel(RVV), Channel(HCAL), Channel(LHEW), Channel(TIME), Channel(SCDV), Channel(FCBR), Channel(BSW), Channel(LSW), Channel(SSW), Channel(BSWU), Channel(SSWU), Channel(LSWU), Channel(LWTO)]\n",
      "===================================================================================================================\n",
      "Frame Name: \t\t 2B\n",
      "Number of Channels: \t 6\n",
      "Depth Interval: \t 133562 - 738000 0.1 in\n",
      "Depth Spacing: \t\t -2 0.1 in\n",
      "Channel Names: \t\t [Channel(TDEP), Channel(TIME), Channel(RXRU), Channel(RVDRU), Channel(RVSRU), Channel(RXGR)]\n",
      "===================================================================================================================\n",
      "Frame Name: \t\t 20B\n",
      "Number of Channels: \t 42\n",
      "Depth Interval: \t 133580 - 738000 0.1 in\n",
      "Depth Spacing: \t\t -20 0.1 in\n",
      "Channel Names: \t\t [Channel(TDEP), Channel(TIME), Channel(DSOZ), Channel(DSO8), Channel(GREZ), Channel(HDRA), Channel(HPRA), Channel(PEFBA), Channel(PEFSA), Channel(PEFLA), Channel(PEFZ), Channel(PEF8), Channel(PEFC), Channel(QCRH), Channel(QCPEF), Channel(RHBA), Channel(RHSA), Channel(RHLA), Channel(RHOZ), Channel(RHO8), Channel(RHOC), Channel(UZ), Channel(U8), Channel(DPHZ), Channel(DPH8), Channel(HMIN), Channel(HMNO), Channel(RXOZ), Channel(RSOZ), Channel(RXO8), Channel(RSO8), Channel(EHGR), Channel(HGR), Channel(HDRT), Channel(HTNP), Channel(HTAL), Channel(RHFT), Channel(RHNT), Channel(HCFT), Channel(HCNT), Channel(HNPO), Channel(HAZ)]\n",
      "===================================================================================================================\n",
      "Frame Name: \t\t 5B\n",
      "Number of Channels: \t 3\n",
      "Depth Interval: \t 133565 - 738000 0.1 in\n",
      "Depth Spacing: \t\t -5 0.1 in\n",
      "Channel Names: \t\t [Channel(TDEP), Channel(TIME), Channel(AHDES)]\n",
      "===================================================================================================================\n",
      "Frame Name: \t\t 30B\n",
      "Number of Channels: \t 60\n",
      "Depth Interval: \t 133590 - 738000 0.1 in\n",
      "Depth Spacing: \t\t -30 0.1 in\n",
      "Channel Names: \t\t [Channel(TDEP), Channel(AHBFR), Channel(AHECEF), Channel(AECF), Channel(AEHF), Channel(AERS), Channel(AEMF), Channel(AHOCO60), Channel(AHOCO90), Channel(AHTCO60), Channel(AHTCO90), Channel(AHFCO60), Channel(AHFCO90), Channel(AECO10), Channel(AECO20), Channel(AECO30), Channel(AECO60), Channel(AECO90), Channel(AHO10), Channel(AHO20), Channel(AHO30), Channel(AHO60), Channel(AHO90), Channel(AHT10), Channel(AHT20), Channel(AHT30), Channel(AHT60), Channel(AHT90), Channel(AHF10), Channel(AHF20), Channel(AHF30), Channel(AHF60), Channel(AHF90), Channel(AE10), Channel(AE20), Channel(AE30), Channel(AE60), Channel(AE90), Channel(AHFOO), Channel(AHFD1), Channel(AHFD2), Channel(AHFRT), Channel(AHFRX), Channel(AHOOO), Channel(AHOD1), Channel(AHOD2), Channel(AHORT), Channel(AHORX), Channel(AHTOO), Channel(AHTD1), Channel(AHTD2), Channel(AHTRT), Channel(AHTRX), Channel(TIME), Channel(AHIBC), Channel(AHQABN), Channel(AHFVM), Channel(AHOVM), Channel(AHTVM), Channel(AHIFC)]\n",
      "===================================================================================================================\n",
      "Frame Name: \t\t 120B\n",
      "Number of Channels: \t 4\n",
      "Depth Interval: \t 133680 - 738000 0.1 in\n",
      "Depth Spacing: \t\t -120 0.1 in\n",
      "Channel Names: \t\t [Channel(TDEP), Channel(AHMF), Channel(TIME), Channel(AHMC)]\n",
      "===================================================================================================================\n"
     ]
    }
   ],
   "source": [
    "for frame in dlis1.frames :\n",
    "    \n",
    "    #Search through the channels \n",
    "    for channel in frame.channels:\n",
    "        if channel.name == frame.index:\n",
    "            depth_units = channel.units\n",
    "            \n",
    "    print(f'Frame Name: \\t\\t {frame.name}')    \n",
    "    print(f'Number of Channels: \\t {len(frame.channels)}') \n",
    "    print(f'Depth Interval: \\t {frame.index_min} - {frame.index_max} {depth_units}') \n",
    "    print(f'Depth Spacing: \\t\\t {frame.spacing} {depth_units}') \n",
    "    print(f'Channel Names: \\t\\t {str(frame.channels)}')                              # The individual logging curves \n",
    "    print('='*115)"
   ]
  },
  {
   "cell_type": "code",
   "execution_count": 9,
   "id": "98ff378d",
   "metadata": {},
   "outputs": [
    {
     "name": "stdout",
     "output_type": "stream",
     "text": [
      "Frame Name: \t\t 60B\n",
      "Number of Channels: \t 74\n",
      "Depth Interval: \t 149580 - 717120 0.1 in\n",
      "Depth Spacing: \t\t -60 0.1 in\n",
      "Channel Names: \t\t [Channel(TDEP), Channel(BS), Channel(CS), Channel(TENS), Channel(ETIM), Channel(BHPR), Channel(RT), Channel(SP), Channel(SPAR), Channel(PXND_HILT), Channel(RHGX_HILT), Channel(UMA_HILT), Channel(HPATT), Channel(HLRGB), Channel(PHIE_HILT), Channel(RMFA_HILT), Channel(RO_HILT), Channel(VCL_HILT), Channel(RWA_HILT), Channel(SW_HILT), Channel(QCBSL), Channel(BSD1), Channel(SSD1), Channel(LSD1), Channel(QCMCFL), Channel(RXIG), Channel(ECGR), Channel(CFGR), Channel(GR), Channel(RTNR), Channel(NPHI), Channel(NPL), Channel(DRTA), Channel(DNPH), Channel(QCPOR), Channel(TNPH), Channel(TALP), Channel(RCFT), Channel(RCNT), Channel(CFTC), Channel(TNRA), Channel(CNTC), Channel(NPOR), Channel(GDEV), Channel(ECGR_EDTC), Channel(GR_EDTC), Channel(GDEV_EDTC), Channel(DF), Channel(CDF), Channel(DCAL), Channel(FCD), Channel(HDAR), Channel(ASCA), Channel(ASFI), Channel(TIME), Channel(CVEL), Channel(GTEM), Channel(HET), Channel(NCYT), Channel(HTEM), Channel(EBSZ), Channel(ESSZ), Channel(ELSZ), Channel(HWEC), Channel(HWER), Channel(TGST), Channel(AREA), Channel(AFCD), Channel(ABS), Channel(IHV), Channel(ICV), Channel(STIA), Channel(STIT), Channel(ATCA)]\n",
      "===================================================================================================================\n",
      "Frame Name: \t\t 20B\n",
      "Number of Channels: \t 42\n",
      "Depth Interval: \t 149600 - 717120 0.1 in\n",
      "Depth Spacing: \t\t -20 0.1 in\n",
      "Channel Names: \t\t [Channel(TDEP), Channel(EHGR_EDTC), Channel(HGR_EDTC), Channel(DSOZ), Channel(DSO8), Channel(GREZ), Channel(HDRA), Channel(HPRA), Channel(PEFBA), Channel(PEFSA), Channel(PEFLA), Channel(PEFZ), Channel(PEF8), Channel(QCRH), Channel(QCPEF), Channel(RHBA), Channel(RHSA), Channel(RHLA), Channel(RHOZ), Channel(RHO8), Channel(UZ), Channel(U8), Channel(DPHZ), Channel(DPH8), Channel(HMIN), Channel(HMNO), Channel(RXOZ), Channel(RSOZ), Channel(RXO8), Channel(RSO8), Channel(EHGR), Channel(HGR), Channel(HDRT), Channel(HTNP), Channel(HTAL), Channel(RHFT), Channel(RHNT), Channel(HCFT), Channel(HCNT), Channel(HNPO), Channel(TIME), Channel(HAZ)]\n",
      "===================================================================================================================\n",
      "Frame Name: \t\t 10B\n",
      "Number of Channels: \t 19\n",
      "Depth Interval: \t 149590 - 717120 0.1 in\n",
      "Depth Spacing: \t\t -10 0.1 in\n",
      "Channel Names: \t\t [Channel(TDEP), Channel(IDWD), Channel(SCD), Channel(HDRX), Channel(RXOI), Channel(RXV), Channel(RVV), Channel(HCAL), Channel(LHEW), Channel(TIME), Channel(SCDV), Channel(FCBR), Channel(BSW), Channel(LSW), Channel(SSW), Channel(BSWU), Channel(SSWU), Channel(LSWU), Channel(LWTO)]\n",
      "===================================================================================================================\n",
      "Frame Name: \t\t 5B\n",
      "Number of Channels: \t 3\n",
      "Depth Interval: \t 149585 - 717120 0.1 in\n",
      "Depth Spacing: \t\t -5 0.1 in\n",
      "Channel Names: \t\t [Channel(TDEP), Channel(TIME), Channel(ADES)]\n",
      "===================================================================================================================\n",
      "Frame Name: \t\t 30B\n",
      "Number of Channels: \t 68\n",
      "Depth Interval: \t 149610 - 717120 0.1 in\n",
      "Depth Spacing: \t\t -30 0.1 in\n",
      "Channel Names: \t\t [Channel(TDEP), Channel(ABFR), Channel(AECEF), Channel(AECF), Channel(AEHF), Channel(AERS), Channel(AEMF), Channel(AOCO10), Channel(AOCO20), Channel(AOCO30), Channel(AOCO60), Channel(AOCO90), Channel(ATCO10), Channel(ATCO20), Channel(ATCO30), Channel(ATCO60), Channel(ATCO90), Channel(AFCO10), Channel(AFCO20), Channel(AFCO30), Channel(AFCO60), Channel(AFCO90), Channel(AECO10), Channel(AECO20), Channel(AECO30), Channel(AECO60), Channel(AECO90), Channel(ADICO07), Channel(ADICO11), Channel(ADICO15), Channel(ADICO22), Channel(ADICO27), Channel(ADI07), Channel(ADI11), Channel(ADI15), Channel(ADI22), Channel(ADI27), Channel(AO10), Channel(AO20), Channel(AO30), Channel(AO60), Channel(AO90), Channel(AT10), Channel(AT20), Channel(AT30), Channel(AT60), Channel(AT90), Channel(AF10), Channel(AF20), Channel(AF30), Channel(AF60), Channel(AF90), Channel(AE10), Channel(AE20), Channel(AE30), Channel(AE60), Channel(AE90), Channel(AOOO), Channel(AOD1), Channel(AOD2), Channel(AORT), Channel(AORX), Channel(TIME), Channel(AIBC), Channel(AQABN), Channel(AOPR), Channel(AOVM), Channel(AIFC)]\n",
      "===================================================================================================================\n",
      "Frame Name: \t\t 120B\n",
      "Number of Channels: \t 6\n",
      "Depth Interval: \t 149640 - 717120 0.1 in\n",
      "Depth Spacing: \t\t -120 0.1 in\n",
      "Channel Names: \t\t [Channel(TDEP), Channel(AMF), Channel(ATSE), Channel(TIME), Channel(AMC), Channel(ATCE)]\n",
      "===================================================================================================================\n",
      "Frame Name: \t\t 2B\n",
      "Number of Channels: \t 6\n",
      "Depth Interval: \t 149582 - 717120 0.1 in\n",
      "Depth Spacing: \t\t -2 0.1 in\n",
      "Channel Names: \t\t [Channel(TDEP), Channel(TIME), Channel(RXRU), Channel(RVDRU), Channel(RVSRU), Channel(RXGR)]\n",
      "===================================================================================================================\n"
     ]
    }
   ],
   "source": [
    "for frame in dlis2.frames :\n",
    "    \n",
    "    #Search through the channels \n",
    "    for channel in frame.channels:\n",
    "        if channel.name == frame.index:\n",
    "            depth_units = channel.units\n",
    "            \n",
    "    print(f'Frame Name: \\t\\t {frame.name}')    \n",
    "    print(f'Number of Channels: \\t {len(frame.channels)}') \n",
    "    print(f'Depth Interval: \\t {frame.index_min} - {frame.index_max} {depth_units}') \n",
    "    print(f'Depth Spacing: \\t\\t {frame.spacing} {depth_units}') \n",
    "    print(f'Channel Names: \\t\\t {str(frame.channels)}')                              # The individual logging curves \n",
    "    print('='*115)"
   ]
  },
  {
   "cell_type": "markdown",
   "id": "ff806a07",
   "metadata": {},
   "source": [
    "<span style='color:green'> <span style=\"font-size:19px;\"> **STEP 2: create Pandas DataFrames containing all the required Well Log Data**"
   ]
  },
  {
   "cell_type": "markdown",
   "id": "9f7c6121",
   "metadata": {},
   "source": [
    "* DEPTH .m = Measured Depth \n",
    "\n",
    "\n",
    "* Lithological Log\n",
    " * GR .gAPI = Gamma-Ray\n",
    "\n",
    "\n",
    "* Resistivity Log\n",
    " * AT90 .ohm.m = Array Induction Two Foot Resistivity A90\n",
    " \n",
    "\n",
    "* Porosity Logs\n",
    " * RHOZ .g/cm3 = HRDD Standard Resolution Formation Density \n",
    " * NPHI .m3/m3 = Thermal Neutron Porosity (Ratio Method)\n",
    "\n",
    "\n",
    "* Sonic Log\n",
    " * DTCO3    .us/ft   = Compressional Slowness from Measurement 3\n",
    " \n",
    " \n",
    " <div style=\"text-align: right;\">\n",
    " \n",
    "| Lithological Log | Resistivity Log | Porosity Logs |\n",
    "|:---------------- |:---------------:|--------------:|\n",
    "| RHGX_HILT        | AT10 .ohm.m     | NPHI    |\n",
    "| NPHI             | AT20 .ohm.m     |          |\n",
    "| GR             | AT30 .ohm.m     |          |\n",
    "    |              | AT30 .ohm.m     |          |\n",
    "    |              | AT30 .ohm.m     |          |"
   ]
  },
  {
   "cell_type": "code",
   "execution_count": 11,
   "id": "6239c620",
   "metadata": {},
   "outputs": [],
   "source": [
    "# Create variable \"f\" which stands for frame\n",
    "f0 = dlis0.object('FRAME','60B')\n",
    "f1 = dlis1.object('FRAME','60B')\n",
    "f2 = dlis2.object('FRAME','60B')"
   ]
  },
  {
   "cell_type": "code",
   "execution_count": 13,
   "id": "d4562bff",
   "metadata": {},
   "outputs": [],
   "source": [
    "# Create variables \"c\" which stands for channel\n",
    "c0 = f0.curves()\n",
    "c1 = f1.curves()\n",
    "c2 = f2.curves()\n",
    "\n",
    "#TDEP\n",
    "#RHGX_HILT\n",
    "#SP\n",
    "#GR\n",
    "#NPHI"
   ]
  },
  {
   "cell_type": "code",
   "execution_count": 14,
   "id": "48ebb863",
   "metadata": {},
   "outputs": [],
   "source": [
    "# Define the channels/logging curves of interest for each frame \"f\"\n",
    "# Convert DEPTH values to metres, by multiplying by 0.00254. \n",
    "d0  = {'DEPTH'    : c0['TDEP']*0.00254,\n",
    "       'Lith.'    : c0['RHGX_HILT'],\n",
    "       'GR'       : c0['GR'],\n",
    "       'SP'       : c0['SP'],\n",
    "       'NPHI'     : c0['NPHI']}\n",
    "\n",
    "d1  = {'DEPTH'    : c1['TDEP']*0.00254,\n",
    "       'Lith.'    : c1['RHGX_HILT'],\n",
    "       'GR'       : c1['GR'],\n",
    "       'SP'       : c1['SP'],\n",
    "       'NPHI'     : c1['NPHI']}\n",
    "\n",
    "d2  = {'DEPTH'    : c2['TDEP']*0.00254,\n",
    "       'Lith.'    : c2['RHGX_HILT'],\n",
    "       'GR'       : c2['GR'],\n",
    "       'SP'       : c2['SP'],\n",
    "       'NPHI'     : c2['NPHI']}"
   ]
  },
  {
   "cell_type": "code",
   "execution_count": 15,
   "id": "d480685a",
   "metadata": {},
   "outputs": [],
   "source": [
    "# Create dataframes containing the required well logging curves \n",
    "df0 = pd.DataFrame(d0)  \n",
    "df1 = pd.DataFrame(d1)  \n",
    "df2 = pd.DataFrame(d2)  "
   ]
  },
  {
   "cell_type": "code",
   "execution_count": 16,
   "id": "a9816884",
   "metadata": {},
   "outputs": [
    {
     "data": {
      "text/plain": [
       "(            DEPTH     Lith.          GR        SP      NPHI\n",
       " 0     3424.885254  4.353680  219.444870 -379.0000  0.091268\n",
       " 1     3424.732910  4.353680  219.444870 -379.0000  0.091268\n",
       " 2     3424.580322  4.353680  219.444870 -379.0000  0.091268\n",
       " 3     3424.427979  4.353680  219.444870 -379.0000  0.091268\n",
       " 4     3424.275635  4.353680  219.444870 -379.0000  0.091268\n",
       " ...           ...       ...         ...       ...       ...\n",
       " 1201  3241.852783  2.832985   25.734980 -338.8125  0.011976\n",
       " 1202  3241.700439  2.831039   22.927324 -338.4375  0.011413\n",
       " 1203  3241.548096  2.831039   31.196218 -338.1875  0.011302\n",
       " 1204  3241.395508  2.831039   43.603180 -338.3125  0.011302\n",
       " 1205  3241.243164  2.831039   43.603180 -337.8125  0.011302\n",
       " \n",
       " [1206 rows x 5 columns],\n",
       "              DEPTH     Lith.         GR        SP      NPHI\n",
       " 0      1874.520020  4.355555  51.294109 -107.3125  0.080953\n",
       " 1      1874.367554  4.355555  51.294109 -107.3125  0.080953\n",
       " 2      1874.215210  4.355555  51.294109 -107.3125  0.080953\n",
       " 3      1874.062866  4.355555  51.294109 -107.3125  0.080953\n",
       " 4      1873.910400  4.355555  51.294109 -107.3125  0.080953\n",
       " ...            ...       ...        ...       ...       ...\n",
       " 10070   339.851990  3.524279  51.124527    8.8125  0.285921\n",
       " 10071   339.699615  3.524279  50.199024    9.1875  0.299282\n",
       " 10072   339.547211  3.524279  54.332233    9.7500  0.321782\n",
       " 10073   339.394806  3.524279  52.881622   10.0625  0.321782\n",
       " 10074   339.242401  3.524279  52.881622   10.4375  0.321782\n",
       " \n",
       " [10075 rows x 5 columns],\n",
       "             DEPTH     Lith.         GR         SP      NPHI\n",
       " 0     1821.484863  4.358621  50.243855  -996.5000  0.108354\n",
       " 1     1821.332397  4.358621  50.243855 -1003.8750  0.108354\n",
       " 2     1821.180054  4.358621  50.243855 -1009.9375  0.108354\n",
       " 3     1821.027588  4.358621  50.243855  -998.9375  0.108354\n",
       " 4     1820.875244  4.358621  50.243855  -985.5625  0.108354\n",
       " ...           ...       ...        ...        ...       ...\n",
       " 9455   380.542816  3.591904  49.410618  -885.1250  0.262814\n",
       " 9456   380.390411  3.591904  49.074657  -885.8125  0.259959\n",
       " 9457   380.238007  3.591904  46.688568  -886.9375  0.266962\n",
       " 9458   380.085602  3.591904  47.320232  -886.6875  0.266962\n",
       " 9459   379.933197  3.591904  47.320232  -886.8750  0.266962\n",
       " \n",
       " [9460 rows x 5 columns])"
      ]
     },
     "execution_count": 16,
     "metadata": {},
     "output_type": "execute_result"
    }
   ],
   "source": [
    "df0, df1, df2"
   ]
  },
  {
   "cell_type": "markdown",
   "id": "85e7c1fd",
   "metadata": {},
   "source": [
    "<span style='color:brown'> <span style=\"font-size:19px;\"> **STEP 3: Data Pre-Processing**"
   ]
  },
  {
   "cell_type": "code",
   "execution_count": 21,
   "id": "689bb1d8",
   "metadata": {},
   "outputs": [],
   "source": [
    "# Invert the order of values, in all the dataframes. By means \"iloc indexer\" we can select the columns in reverse order\n",
    "df0  = df0.iloc[::-1]\n",
    "df1  = df1.iloc[::-1]\n",
    "df2  = df2.iloc[::-1]"
   ]
  },
  {
   "cell_type": "code",
   "execution_count": 22,
   "id": "dfc3b50a",
   "metadata": {},
   "outputs": [],
   "source": [
    "# Reset the Index of each dataframe \n",
    "df0  = df0.reset_index(drop=True) \n",
    "df1  = df1.reset_index(drop=True)\n",
    "df2  = df2.reset_index(drop=True)"
   ]
  },
  {
   "cell_type": "code",
   "execution_count": 23,
   "id": "b1efe304",
   "metadata": {},
   "outputs": [
    {
     "data": {
      "text/plain": [
       "(            DEPTH     Lith.          GR        SP      NPHI\n",
       " 0     3241.243164  2.831039   43.603180 -337.8125  0.011302\n",
       " 1     3241.395508  2.831039   43.603180 -338.3125  0.011302\n",
       " 2     3241.548096  2.831039   31.196218 -338.1875  0.011302\n",
       " 3     3241.700439  2.831039   22.927324 -338.4375  0.011413\n",
       " 4     3241.852783  2.832985   25.734980 -338.8125  0.011976\n",
       " ...           ...       ...         ...       ...       ...\n",
       " 1201  3424.275635  4.353680  219.444870 -379.0000  0.091268\n",
       " 1202  3424.427979  4.353680  219.444870 -379.0000  0.091268\n",
       " 1203  3424.580322  4.353680  219.444870 -379.0000  0.091268\n",
       " 1204  3424.732910  4.353680  219.444870 -379.0000  0.091268\n",
       " 1205  3424.885254  4.353680  219.444870 -379.0000  0.091268\n",
       " \n",
       " [1206 rows x 5 columns],\n",
       "              DEPTH     Lith.         GR        SP      NPHI\n",
       " 0       339.242401  3.524279  52.881622   10.4375  0.321782\n",
       " 1       339.394806  3.524279  52.881622   10.0625  0.321782\n",
       " 2       339.547211  3.524279  54.332233    9.7500  0.321782\n",
       " 3       339.699615  3.524279  50.199024    9.1875  0.299282\n",
       " 4       339.851990  3.524279  51.124527    8.8125  0.285921\n",
       " ...            ...       ...        ...       ...       ...\n",
       " 10070  1873.910400  4.355555  51.294109 -107.3125  0.080953\n",
       " 10071  1874.062866  4.355555  51.294109 -107.3125  0.080953\n",
       " 10072  1874.215210  4.355555  51.294109 -107.3125  0.080953\n",
       " 10073  1874.367554  4.355555  51.294109 -107.3125  0.080953\n",
       " 10074  1874.520020  4.355555  51.294109 -107.3125  0.080953\n",
       " \n",
       " [10075 rows x 5 columns],\n",
       "             DEPTH     Lith.         GR         SP      NPHI\n",
       " 0      379.933197  3.591904  47.320232  -886.8750  0.266962\n",
       " 1      380.085602  3.591904  47.320232  -886.6875  0.266962\n",
       " 2      380.238007  3.591904  46.688568  -886.9375  0.266962\n",
       " 3      380.390411  3.591904  49.074657  -885.8125  0.259959\n",
       " 4      380.542816  3.591904  49.410618  -885.1250  0.262814\n",
       " ...           ...       ...        ...        ...       ...\n",
       " 9455  1820.875244  4.358621  50.243855  -985.5625  0.108354\n",
       " 9456  1821.027588  4.358621  50.243855  -998.9375  0.108354\n",
       " 9457  1821.180054  4.358621  50.243855 -1009.9375  0.108354\n",
       " 9458  1821.332397  4.358621  50.243855 -1003.8750  0.108354\n",
       " 9459  1821.484863  4.358621  50.243855  -996.5000  0.108354\n",
       " \n",
       " [9460 rows x 5 columns])"
      ]
     },
     "execution_count": 23,
     "metadata": {},
     "output_type": "execute_result"
    }
   ],
   "source": [
    "# Print the new dataframes \n",
    "df0, df1, df2"
   ]
  },
  {
   "cell_type": "code",
   "execution_count": 24,
   "id": "817387e7",
   "metadata": {},
   "outputs": [
    {
     "data": {
      "text/plain": [
       "(             DEPTH        Lith.           GR           SP         NPHI\n",
       " count  1206.000000  1206.000000  1206.000000  1206.000000  1206.000000\n",
       " mean   3333.064209     2.858028    94.990921  -354.413025     0.027390\n",
       " std      53.078846     0.350736    68.866013    11.340612     0.033104\n",
       " min    3241.243164     2.371316    13.174603  -384.875000    -0.011463\n",
       " 25%    3287.153809     2.757563    29.379684  -362.375000     0.004623\n",
       " 50%    3333.064209     2.803804    79.515808  -351.562500     0.010894\n",
       " 75%    3378.974792     2.834423   161.273201  -346.875000     0.050280\n",
       " max    3424.885254     4.353680   219.444870  -332.062500     0.114094,\n",
       "               DEPTH         Lith.            GR            SP          NPHI\n",
       " count  10075.000000  10075.000000  10075.000000  10075.000000  10075.000000\n",
       " mean    1106.881104      2.836234     66.271645   -101.451721      0.049750\n",
       " std      443.262299      0.174513     26.240129     25.961660      0.053417\n",
       " min      339.242401      2.286418     12.102506   -186.812500     -0.011111\n",
       " 25%      723.061798      2.765537     50.547960   -107.187500      0.015116\n",
       " 50%     1106.881226      2.804900     64.856667   -103.437500      0.037506\n",
       " 75%     1490.700623      2.845610     83.576637   -101.062500      0.068732\n",
       " max     1874.520020      4.355555    266.987091     26.812500      0.384170,\n",
       "              DEPTH        Lith.           GR           SP         NPHI\n",
       " count  9460.000000  9460.000000  9460.000000  9460.000000  9460.000000\n",
       " mean   1100.708862     2.924832    81.884712  -951.873169     0.124575\n",
       " std     416.206299     0.140698    23.978975    26.394335     0.061070\n",
       " min     379.933197     2.317637    17.161524 -1018.750000    -0.004183\n",
       " 25%     740.321091     2.863833    73.063951  -970.000000     0.087772\n",
       " 50%    1100.708984     2.934122    87.142048  -954.875000     0.138584\n",
       " 75%    1461.096924     2.984703    97.555960  -935.687500     0.162782\n",
       " max    1821.484863     4.358621   169.196976  -871.937500     0.328682)"
      ]
     },
     "execution_count": 24,
     "metadata": {},
     "output_type": "execute_result"
    }
   ],
   "source": [
    "df0.describe(), df1.describe(), df2.describe()"
   ]
  },
  {
   "cell_type": "markdown",
   "id": "e3ababce",
   "metadata": {},
   "source": [
    "to be continued"
   ]
  },
  {
   "cell_type": "code",
   "execution_count": null,
   "id": "d6a85f64",
   "metadata": {},
   "outputs": [],
   "source": []
  }
 ],
 "metadata": {
  "kernelspec": {
   "display_name": "Python 3 (ipykernel)",
   "language": "python",
   "name": "python3"
  },
  "language_info": {
   "codemirror_mode": {
    "name": "ipython",
    "version": 3
   },
   "file_extension": ".py",
   "mimetype": "text/x-python",
   "name": "python",
   "nbconvert_exporter": "python",
   "pygments_lexer": "ipython3",
   "version": "3.9.13"
  }
 },
 "nbformat": 4,
 "nbformat_minor": 5
}
