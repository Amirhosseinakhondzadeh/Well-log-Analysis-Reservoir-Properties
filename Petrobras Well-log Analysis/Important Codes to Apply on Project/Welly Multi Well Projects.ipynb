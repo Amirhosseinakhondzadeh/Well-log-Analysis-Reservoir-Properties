{
 "cells": [
  {
   "cell_type": "markdown",
   "id": "4be57128",
   "metadata": {},
   "source": [
    "## Welly Multi Well Projects"
   ]
  },
  {
   "cell_type": "markdown",
   "id": "d563b496",
   "metadata": {},
   "source": [
    "In this part the **libraries** are imported."
   ]
  },
  {
   "cell_type": "code",
   "execution_count": 12,
   "id": "e727c6fc",
   "metadata": {},
   "outputs": [],
   "source": [
    "from welly import Project\n",
    "import pandas as pd\n",
    "import matplotlib.pyplot as plt"
   ]
  },
  {
   "cell_type": "markdown",
   "id": "b6a9ef26",
   "metadata": {},
   "source": [
    "Loading wells using Project **( MULTI .LAS FILES just by using * )**"
   ]
  },
  {
   "cell_type": "code",
   "execution_count": 13,
   "id": "c3769b83",
   "metadata": {},
   "outputs": [
    {
     "name": "stderr",
     "output_type": "stream",
     "text": [
      "4it [00:02,  1.41it/s]\n"
     ]
    }
   ],
   "source": [
    "wells = Project.from_las('/Users/amirhosseinakhondzadeh/@ DATA/welly_data/*.las')"
   ]
  },
  {
   "cell_type": "markdown",
   "id": "36d00837",
   "metadata": {
    "scrolled": false
   },
   "source": [
    "# Well Meta Data"
   ]
  },
  {
   "cell_type": "code",
   "execution_count": 14,
   "id": "221bc6c0",
   "metadata": {},
   "outputs": [
    {
     "data": {
      "text/html": [
       "<table><tr><th>Index</th><th>UWI</th><th>Data</th><th>Curves</th></tr><tr><td>0</td><td><strong>L06-06</strong></td><td>5&nbsp;curves</td><td>GR, DT, RHOB, DRHO, NPHI</td></tr><tr><td>1</td><td><strong>L07-01</strong></td><td>4&nbsp;curves</td><td>GR, DT, RHOB, NPHI</td></tr><tr><td>2</td><td><strong>L05-B-01</strong></td><td>5&nbsp;curves</td><td>GR, DT, RHOB, DRHO, NPHI</td></tr><tr><td>3</td><td><strong>L06-07</strong></td><td>5&nbsp;curves</td><td>GR, DT, RHOB, DRHO, NPHI</td></tr></table>"
      ],
      "text/plain": [
       "Project(4 wells: L06-06, L07-01, L05-B-01, L06-07)"
      ]
     },
     "execution_count": 14,
     "metadata": {},
     "output_type": "execute_result"
    }
   ],
   "source": [
    "#Viewing contents of wells\n",
    "wells"
   ]
  },
  {
   "cell_type": "code",
   "execution_count": 15,
   "id": "4c6458e2",
   "metadata": {},
   "outputs": [
    {
     "data": {
      "text/plain": [
       "['L06-06', 'L07-01', 'L05-B-01', 'L06-07']"
      ]
     },
     "execution_count": 15,
     "metadata": {},
     "output_type": "execute_result"
    }
   ],
   "source": [
    "# Call upon UWIs\n",
    "wells.uwis"
   ]
  },
  {
   "cell_type": "code",
   "execution_count": 16,
   "id": "bd2b81ac",
   "metadata": {},
   "outputs": [
    {
     "name": "stdout",
     "output_type": "stream",
     "text": [
      "Well(uwi: 'L06-06', name: 'L06-06', 5 curves: ['GR', 'DT', 'RHOB', 'DRHO', 'NPHI'])\n",
      "Well(uwi: 'L07-01', name: 'L07-01', 4 curves: ['GR', 'DT', 'RHOB', 'NPHI'])\n",
      "Well(uwi: 'L05-B-01', name: 'L05-B-01', 5 curves: ['GR', 'DT', 'RHOB', 'DRHO', 'NPHI'])\n",
      "Well(uwi: 'L06-07', name: 'L06-07', 5 curves: ['GR', 'DT', 'RHOB', 'DRHO', 'NPHI'])\n"
     ]
    }
   ],
   "source": [
    "# Print individual well details\n",
    "for well in wells:\n",
    "    print(well)"
   ]
  },
  {
   "cell_type": "code",
   "execution_count": 17,
   "id": "e6584f31",
   "metadata": {},
   "outputs": [
    {
     "name": "stdout",
     "output_type": "stream",
     "text": [
      " 53.808408           4.672192\n",
      " 53.722768           4.796468\n",
      " 53.705031           4.603479\n",
      " 53.706549           4.898703\n"
     ]
    }
   ],
   "source": [
    "# Print well name and location\n",
    "for well in wells:\n",
    "    #print(f'{well.header.name} \\t {well.location.latitude} \\t {well.location.longitude}'.expandtabs(10))\n",
    "    print(f' {well.location.latitude} \\t {well.location.longitude}'.expandtabs(10))"
   ]
  },
  {
   "cell_type": "code",
   "execution_count": 26,
   "id": "a7920076",
   "metadata": {
    "scrolled": true
   },
   "outputs": [
    {
     "name": "stdout",
     "output_type": "stream",
     "text": [
      "        UWI well name   Latitude  Longitude\n",
      "0    L06-06    L06-06  53.808408   4.672192\n",
      "1    L07-01    L07-01  53.722768   4.796468\n",
      "2  L05-B-01  L05-B-01  53.705031   4.603479\n",
      "3    L06-07    L06-07  53.706549   4.898703\n"
     ]
    }
   ],
   "source": [
    "import pandas as pd\n",
    "\n",
    "class Well:\n",
    "    def __init__(self, uwi, curves):\n",
    "        self.uwi = uwi\n",
    "        self.curves = curves\n",
    "\n",
    "\n",
    "# Define latitude and longitude for each well (example values)\n",
    "coordinates = {\n",
    "    'L06-06': {'latitude': 53.808408, 'longitude': 4.672192},\n",
    "    'L07-01': {'latitude': 53.722768, 'longitude': 4.796468},\n",
    "    'L05-B-01': {'latitude': 53.705031, 'longitude': 4.603479},\n",
    "    'L06-07': {'latitude': 53.706549, 'longitude': 4.898703}\n",
    "}\n",
    "\n",
    "\n",
    "\n",
    "# Create a list to store data for the table\n",
    "table_data = []\n",
    "for well in wells:\n",
    "    well_data = {\n",
    "        'UWI': well.uwi,\n",
    "        'well name': well.uwi,\n",
    "        'Latitude': coordinates[well.uwi]['latitude'],\n",
    "        'Longitude': coordinates[well.uwi]['longitude']\n",
    "    }\n",
    "    table_data.append(well_data)\n",
    "\n",
    "# Create a Pandas DataFrame from the table data\n",
    "df = pd.DataFrame(table_data)\n",
    "\n",
    "# Print the DataFrame\n",
    "print(df)\n"
   ]
  },
  {
   "cell_type": "code",
   "execution_count": 34,
   "id": "52403a7f",
   "metadata": {},
   "outputs": [
    {
     "name": "stdout",
     "output_type": "stream",
     "text": [
      "        UWI well name   Latitude  Longitude\n",
      "0    L06-06    L06-06  53.808408   4.672192\n",
      "1    L07-01    L07-01  53.722768   4.796468\n",
      "2  L05-B-01  L05-B-01  53.705031   4.603479\n",
      "3    L06-07    L06-07  53.706549   4.898703\n"
     ]
    }
   ],
   "source": [
    "class Well:\n",
    "    def __init__(self, uwi, curves, latitude, longitude):\n",
    "        self.uwi = uwi\n",
    "        self.curves = curves\n",
    "        self.latitude = latitude\n",
    "        self.longitude = longitude\n",
    "\n",
    "table_data = []    # Create a list to store data for the table\n",
    "for well in wells:\n",
    "    well_data = {\n",
    "        'UWI': well.uwi,\n",
    "        'well name': well.uwi,\n",
    "        'Latitude': well.latitude,\n",
    "        'Longitude': well.longitude\n",
    "    }\n",
    "    table_data.append(well_data)\n",
    "\n",
    "df = pd.DataFrame(table_data)  # Create a Pandas DataFrame from the table data\n",
    "\n",
    "print(df)"
   ]
  },
  {
   "cell_type": "markdown",
   "id": "4f4ae963",
   "metadata": {},
   "source": [
    "<span style='color:gray'> <span style=\"font-size:20px;\"> **Mapping the Well Locations**:</span> </span>"
   ]
  },
  {
   "cell_type": "code",
   "execution_count": 35,
   "id": "71eaa782",
   "metadata": {},
   "outputs": [],
   "source": [
    "import folium"
   ]
  },
  {
   "cell_type": "code",
   "execution_count": 37,
   "id": "2ee8798e",
   "metadata": {},
   "outputs": [
    {
     "data": {
      "text/html": [
       "<div style=\"width:100%;\"><div style=\"position:relative;width:100%;height:0;padding-bottom:60%;\"><span style=\"color:#565656\">Make this Notebook Trusted to load map: File -> Trust Notebook</span><iframe srcdoc=\"&lt;!DOCTYPE html&gt;\n",
       "&lt;html&gt;\n",
       "&lt;head&gt;\n",
       "    \n",
       "    &lt;meta http-equiv=&quot;content-type&quot; content=&quot;text/html; charset=UTF-8&quot; /&gt;\n",
       "    \n",
       "        &lt;script&gt;\n",
       "            L_NO_TOUCH = false;\n",
       "            L_DISABLE_3D = false;\n",
       "        &lt;/script&gt;\n",
       "    \n",
       "    &lt;style&gt;html, body {width: 100%;height: 100%;margin: 0;padding: 0;}&lt;/style&gt;\n",
       "    &lt;style&gt;#map {position:absolute;top:0;bottom:0;right:0;left:0;}&lt;/style&gt;\n",
       "    &lt;script src=&quot;https://cdn.jsdelivr.net/npm/leaflet@1.9.3/dist/leaflet.js&quot;&gt;&lt;/script&gt;\n",
       "    &lt;script src=&quot;https://code.jquery.com/jquery-1.12.4.min.js&quot;&gt;&lt;/script&gt;\n",
       "    &lt;script src=&quot;https://cdn.jsdelivr.net/npm/bootstrap@5.2.2/dist/js/bootstrap.bundle.min.js&quot;&gt;&lt;/script&gt;\n",
       "    &lt;script src=&quot;https://cdnjs.cloudflare.com/ajax/libs/Leaflet.awesome-markers/2.0.2/leaflet.awesome-markers.js&quot;&gt;&lt;/script&gt;\n",
       "    &lt;link rel=&quot;stylesheet&quot; href=&quot;https://cdn.jsdelivr.net/npm/leaflet@1.9.3/dist/leaflet.css&quot;/&gt;\n",
       "    &lt;link rel=&quot;stylesheet&quot; href=&quot;https://cdn.jsdelivr.net/npm/bootstrap@5.2.2/dist/css/bootstrap.min.css&quot;/&gt;\n",
       "    &lt;link rel=&quot;stylesheet&quot; href=&quot;https://netdna.bootstrapcdn.com/bootstrap/3.0.0/css/bootstrap.min.css&quot;/&gt;\n",
       "    &lt;link rel=&quot;stylesheet&quot; href=&quot;https://cdn.jsdelivr.net/npm/@fortawesome/fontawesome-free@6.2.0/css/all.min.css&quot;/&gt;\n",
       "    &lt;link rel=&quot;stylesheet&quot; href=&quot;https://cdnjs.cloudflare.com/ajax/libs/Leaflet.awesome-markers/2.0.2/leaflet.awesome-markers.css&quot;/&gt;\n",
       "    &lt;link rel=&quot;stylesheet&quot; href=&quot;https://cdn.jsdelivr.net/gh/python-visualization/folium/folium/templates/leaflet.awesome.rotate.min.css&quot;/&gt;\n",
       "    \n",
       "            &lt;meta name=&quot;viewport&quot; content=&quot;width=device-width,\n",
       "                initial-scale=1.0, maximum-scale=1.0, user-scalable=no&quot; /&gt;\n",
       "            &lt;style&gt;\n",
       "                #map_091d43389928073a33b1d57daea01b2b {\n",
       "                    position: relative;\n",
       "                    width: 100.0%;\n",
       "                    height: 100.0%;\n",
       "                    left: 0.0%;\n",
       "                    top: 0.0%;\n",
       "                }\n",
       "                .leaflet-container { font-size: 1rem; }\n",
       "            &lt;/style&gt;\n",
       "        \n",
       "&lt;/head&gt;\n",
       "&lt;body&gt;\n",
       "    \n",
       "    \n",
       "            &lt;div class=&quot;folium-map&quot; id=&quot;map_091d43389928073a33b1d57daea01b2b&quot; &gt;&lt;/div&gt;\n",
       "        \n",
       "&lt;/body&gt;\n",
       "&lt;script&gt;\n",
       "    \n",
       "    \n",
       "            var map_091d43389928073a33b1d57daea01b2b = L.map(\n",
       "                &quot;map_091d43389928073a33b1d57daea01b2b&quot;,\n",
       "                {\n",
       "                    center: [53.735689, 4.7427105],\n",
       "                    crs: L.CRS.EPSG3857,\n",
       "                    zoom: 7,\n",
       "                    zoomControl: true,\n",
       "                    preferCanvas: false,\n",
       "                }\n",
       "            );\n",
       "\n",
       "            \n",
       "\n",
       "        \n",
       "    \n",
       "            var tile_layer_f9c0de136a980a8a48828b1196e926cc = L.tileLayer(\n",
       "                &quot;https://{s}.tile.openstreetmap.org/{z}/{x}/{y}.png&quot;,\n",
       "                {&quot;attribution&quot;: &quot;Data by \\u0026copy; \\u003ca target=\\&quot;_blank\\&quot; href=\\&quot;http://openstreetmap.org\\&quot;\\u003eOpenStreetMap\\u003c/a\\u003e, under \\u003ca target=\\&quot;_blank\\&quot; href=\\&quot;http://www.openstreetmap.org/copyright\\&quot;\\u003eODbL\\u003c/a\\u003e.&quot;, &quot;detectRetina&quot;: false, &quot;maxNativeZoom&quot;: 18, &quot;maxZoom&quot;: 18, &quot;minZoom&quot;: 0, &quot;noWrap&quot;: false, &quot;opacity&quot;: 1, &quot;subdomains&quot;: &quot;abc&quot;, &quot;tms&quot;: false}\n",
       "            ).addTo(map_091d43389928073a33b1d57daea01b2b);\n",
       "        \n",
       "    \n",
       "            var marker_517a9a88debc19fcc9ec8df24b2b915c = L.marker(\n",
       "                [53.808408, 4.672192],\n",
       "                {}\n",
       "            ).addTo(map_091d43389928073a33b1d57daea01b2b);\n",
       "        \n",
       "    \n",
       "        var popup_a5cfb1d40dd6ea3caa4edd0318089e82 = L.popup({&quot;maxWidth&quot;: &quot;100%&quot;});\n",
       "\n",
       "        \n",
       "            \n",
       "                var html_9876fc330b64ccc05edf4bd33c65062f = $(`&lt;div id=&quot;html_9876fc330b64ccc05edf4bd33c65062f&quot; style=&quot;width: 100.0%; height: 100.0%;&quot;&gt;L06-06&lt;/div&gt;`)[0];\n",
       "                popup_a5cfb1d40dd6ea3caa4edd0318089e82.setContent(html_9876fc330b64ccc05edf4bd33c65062f);\n",
       "            \n",
       "        \n",
       "\n",
       "        marker_517a9a88debc19fcc9ec8df24b2b915c.bindPopup(popup_a5cfb1d40dd6ea3caa4edd0318089e82)\n",
       "        ;\n",
       "\n",
       "        \n",
       "    \n",
       "    \n",
       "            var marker_ce15a32eb2f638088b3da8be08bac717 = L.marker(\n",
       "                [53.722768, 4.796468],\n",
       "                {}\n",
       "            ).addTo(map_091d43389928073a33b1d57daea01b2b);\n",
       "        \n",
       "    \n",
       "        var popup_75d60c0e12d3f273bbfeac723915617d = L.popup({&quot;maxWidth&quot;: &quot;100%&quot;});\n",
       "\n",
       "        \n",
       "            \n",
       "                var html_f62f4e6a5260a648f1f94b4e4d28f970 = $(`&lt;div id=&quot;html_f62f4e6a5260a648f1f94b4e4d28f970&quot; style=&quot;width: 100.0%; height: 100.0%;&quot;&gt;L07-01&lt;/div&gt;`)[0];\n",
       "                popup_75d60c0e12d3f273bbfeac723915617d.setContent(html_f62f4e6a5260a648f1f94b4e4d28f970);\n",
       "            \n",
       "        \n",
       "\n",
       "        marker_ce15a32eb2f638088b3da8be08bac717.bindPopup(popup_75d60c0e12d3f273bbfeac723915617d)\n",
       "        ;\n",
       "\n",
       "        \n",
       "    \n",
       "    \n",
       "            var marker_8c5b0f9ec9ae3dc66f2c6380c3f0e1a2 = L.marker(\n",
       "                [53.705031, 4.603479],\n",
       "                {}\n",
       "            ).addTo(map_091d43389928073a33b1d57daea01b2b);\n",
       "        \n",
       "    \n",
       "        var popup_6e697087bed8bdc161295bf845092ed3 = L.popup({&quot;maxWidth&quot;: &quot;100%&quot;});\n",
       "\n",
       "        \n",
       "            \n",
       "                var html_ac7d09767e333709a4f4c76fbcf4f625 = $(`&lt;div id=&quot;html_ac7d09767e333709a4f4c76fbcf4f625&quot; style=&quot;width: 100.0%; height: 100.0%;&quot;&gt;L05-B-01&lt;/div&gt;`)[0];\n",
       "                popup_6e697087bed8bdc161295bf845092ed3.setContent(html_ac7d09767e333709a4f4c76fbcf4f625);\n",
       "            \n",
       "        \n",
       "\n",
       "        marker_8c5b0f9ec9ae3dc66f2c6380c3f0e1a2.bindPopup(popup_6e697087bed8bdc161295bf845092ed3)\n",
       "        ;\n",
       "\n",
       "        \n",
       "    \n",
       "    \n",
       "            var marker_a5f8807e56414835a4a4ed0c293d3193 = L.marker(\n",
       "                [53.706549, 4.898703],\n",
       "                {}\n",
       "            ).addTo(map_091d43389928073a33b1d57daea01b2b);\n",
       "        \n",
       "    \n",
       "        var popup_b92aaa255f362c0834e67db7d77f5c80 = L.popup({&quot;maxWidth&quot;: &quot;100%&quot;});\n",
       "\n",
       "        \n",
       "            \n",
       "                var html_82e9bb34d0f4589dfe58a0a2ff9c3e98 = $(`&lt;div id=&quot;html_82e9bb34d0f4589dfe58a0a2ff9c3e98&quot; style=&quot;width: 100.0%; height: 100.0%;&quot;&gt;L06-07&lt;/div&gt;`)[0];\n",
       "                popup_b92aaa255f362c0834e67db7d77f5c80.setContent(html_82e9bb34d0f4589dfe58a0a2ff9c3e98);\n",
       "            \n",
       "        \n",
       "\n",
       "        marker_a5f8807e56414835a4a4ed0c293d3193.bindPopup(popup_b92aaa255f362c0834e67db7d77f5c80)\n",
       "        ;\n",
       "\n",
       "        \n",
       "    \n",
       "&lt;/script&gt;\n",
       "&lt;/html&gt;\" style=\"position:absolute;width:100%;height:100%;left:0;top:0;border:none !important;\" allowfullscreen webkitallowfullscreen mozallowfullscreen></iframe></div></div>"
      ],
      "text/plain": [
       "<folium.folium.Map at 0x7fc92398de20>"
      ]
     },
     "execution_count": 37,
     "metadata": {},
     "output_type": "execute_result"
    }
   ],
   "source": [
    "mean_lat = df['Latitude'].mean()\n",
    "mean_long = df['Longitude'].mean()\n",
    "\n",
    "m = folium.Map(location=[mean_lat, mean_long],zoom_start=7)\n",
    "\n",
    "for index, well_location in df.iterrows():\n",
    "    folium.Marker([well_location['Latitude'], well_location['Longitude']],\n",
    "                 popup=well_location['well name']).add_to(m)\n",
    "m"
   ]
  },
  {
   "cell_type": "markdown",
   "id": "c3106e56",
   "metadata": {},
   "source": [
    "<span style='color:gray'> <span style=\"font-size:20px;\"> **Plotting Curves from Multiple Wells**:</span> </span>"
   ]
  },
  {
   "cell_type": "code",
   "execution_count": 45,
   "id": "5aaf83af",
   "metadata": {},
   "outputs": [
    {
     "ename": "TypeError",
     "evalue": "object of type 'Well' has no len()",
     "output_type": "error",
     "traceback": [
      "\u001b[0;31m---------------------------------------------------------------------------\u001b[0m",
      "\u001b[0;31mTypeError\u001b[0m                                 Traceback (most recent call last)",
      "\u001b[0;32m/var/folders/v8/jhvjrqr52v36pmpn5sp988bc0000gn/T/ipykernel_11124/288967002.py\u001b[0m in \u001b[0;36m<module>\u001b[0;34m\u001b[0m\n\u001b[1;32m      1\u001b[0m \u001b[0;31m#Plot GR from all wells\u001b[0m\u001b[0;34m\u001b[0m\u001b[0;34m\u001b[0m\u001b[0m\n\u001b[0;32m----> 2\u001b[0;31m \u001b[0mfig\u001b[0m\u001b[0;34m,\u001b[0m \u001b[0maxs\u001b[0m \u001b[0;34m=\u001b[0m \u001b[0mplt\u001b[0m\u001b[0;34m.\u001b[0m\u001b[0msubplots\u001b[0m\u001b[0;34m(\u001b[0m\u001b[0mfigsize\u001b[0m\u001b[0;34m=\u001b[0m\u001b[0;34m(\u001b[0m\u001b[0;36m14\u001b[0m\u001b[0;34m,\u001b[0m \u001b[0;36m10\u001b[0m\u001b[0;34m)\u001b[0m\u001b[0;34m,\u001b[0m \u001b[0mncols\u001b[0m\u001b[0;34m=\u001b[0m\u001b[0mlen\u001b[0m\u001b[0;34m(\u001b[0m\u001b[0mwells\u001b[0m\u001b[0;34m)\u001b[0m\u001b[0;34m)\u001b[0m\u001b[0;34m\u001b[0m\u001b[0;34m\u001b[0m\u001b[0m\n\u001b[0m\u001b[1;32m      3\u001b[0m \u001b[0;34m\u001b[0m\u001b[0m\n\u001b[1;32m      4\u001b[0m \u001b[0;32mfor\u001b[0m \u001b[0mi\u001b[0m\u001b[0;34m,\u001b[0m \u001b[0;34m(\u001b[0m\u001b[0max\u001b[0m\u001b[0;34m,\u001b[0m \u001b[0mwell\u001b[0m\u001b[0;34m)\u001b[0m \u001b[0;32min\u001b[0m \u001b[0menumerate\u001b[0m\u001b[0;34m(\u001b[0m\u001b[0mzip\u001b[0m\u001b[0;34m(\u001b[0m\u001b[0maxs\u001b[0m\u001b[0;34m,\u001b[0m \u001b[0mwells\u001b[0m\u001b[0;34m)\u001b[0m\u001b[0;34m)\u001b[0m\u001b[0;34m:\u001b[0m\u001b[0;34m\u001b[0m\u001b[0;34m\u001b[0m\u001b[0m\n\u001b[1;32m      5\u001b[0m     \u001b[0mgr\u001b[0m \u001b[0;34m=\u001b[0m \u001b[0mwell\u001b[0m\u001b[0;34m.\u001b[0m\u001b[0mget_curve\u001b[0m\u001b[0;34m(\u001b[0m\u001b[0;34m'GR'\u001b[0m\u001b[0;34m)\u001b[0m\u001b[0;34m\u001b[0m\u001b[0;34m\u001b[0m\u001b[0m\n",
      "\u001b[0;31mTypeError\u001b[0m: object of type 'Well' has no len()"
     ]
    }
   ],
   "source": [
    "#Plot GR from all wells\n",
    "fig, axs = plt.subplots(figsize=(14, 10), ncols=len(wells))\n",
    "\n",
    "for i, (ax, well) in enumerate(zip(axs, wells)):\n",
    "    gr = well.get_curve('GR')\n",
    "    if gr is not None:\n",
    "        ax = gr.plot(ax=ax, c='green')\n",
    "    ax.set_title(f\"GR for\\n{well.header.name}\")\n",
    "\n",
    "plt.tight_layout()\n",
    "plt.show()\n",
    "\n"
   ]
  },
  {
   "cell_type": "code",
   "execution_count": null,
   "id": "73481ae7",
   "metadata": {},
   "outputs": [],
   "source": []
  }
 ],
 "metadata": {
  "kernelspec": {
   "display_name": "Python 3 (ipykernel)",
   "language": "python",
   "name": "python3"
  },
  "language_info": {
   "codemirror_mode": {
    "name": "ipython",
    "version": 3
   },
   "file_extension": ".py",
   "mimetype": "text/x-python",
   "name": "python",
   "nbconvert_exporter": "python",
   "pygments_lexer": "ipython3",
   "version": "3.9.13"
  }
 },
 "nbformat": 4,
 "nbformat_minor": 5
}
